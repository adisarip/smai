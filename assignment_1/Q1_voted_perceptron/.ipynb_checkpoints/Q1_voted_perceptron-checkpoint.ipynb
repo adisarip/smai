{
 "cells": [
  {
   "cell_type": "markdown",
   "metadata": {},
   "source": [
    "Name: Aditya Saripalli  \n",
    "Roll No: 20173071"
   ]
  },
  {
   "cell_type": "code",
   "execution_count": 13,
   "metadata": {
    "collapsed": true,
    "tags": [
     "Data",
     "Extraction",
     "&",
     "Cleanup"
    ]
   },
   "outputs": [],
   "source": [
    "# Importing all the necessary libraries\n",
    "import sys\n",
    "import numpy as np\n",
    "import matplotlib.pyplot as plt"
   ]
  },
  {
   "cell_type": "code",
   "execution_count": 14,
   "metadata": {
    "collapsed": true
   },
   "outputs": [],
   "source": [
    "# Prepare breast cancer data set for perceptron computation\n",
    "def prepare_bcw_data_set():\n",
    "    data_set = []\n",
    "    # preparing a list of list data structure\n",
    "    data_file = open(\"./breast-cancer-wisconsin.data\", \"r\")\n",
    "    \n",
    "    for line in data_file.readlines():\n",
    "        # removing missing records\n",
    "        if \"?\" in line.split(\",\"):\n",
    "            continue\n",
    "        line = [float(i) for i in line.rstrip().split(\",\")]\n",
    "        # value holders for signum function \n",
    "        if line[-1] == 2:\n",
    "            line[-1] = 1;\n",
    "        else:\n",
    "            line[-1] = -1;\n",
    "        # setting the bias multipliers in data set\n",
    "        line[0] = 1;\n",
    "        # store the record in data set\n",
    "        data_set.append(line)\n",
    "\n",
    "    data_file.close()\n",
    "    return np.array(data_set)"
   ]
  },
  {
   "cell_type": "code",
   "execution_count": 15,
   "metadata": {
    "collapsed": true
   },
   "outputs": [],
   "source": [
    "# Prepare ionosphere data set for perceptron computation\n",
    "def prepare_ion_data_set():\n",
    "    data_set = []\n",
    "    # preparing a list of list data structure\n",
    "    data_file = open(\"./ionosphere.data\", \"r\")\n",
    "    \n",
    "    for line in data_file.readlines():\n",
    "        line_tokens = line.rstrip().split(\",\")\n",
    "        # values holders for signum function\n",
    "        if line_tokens[-1] == \"g\":\n",
    "            line_tokens[-1] = \"1\";\n",
    "        else:\n",
    "            line_tokens[-1] = \"-1\";\n",
    "        line = [float(i) for i in line_tokens]\n",
    "        # store the record in data set\n",
    "        data_set.append(line)\n",
    "\n",
    "    # adding the bias multipliers in data set\n",
    "    data_set = np.array(data_set)\n",
    "    n_datasets = data_set.shape[0]\n",
    "    bias_vector = np.ones(n_datasets).reshape(n_datasets,1)\n",
    "    data_set = np.hstack((bias_vector, data_set))\n",
    "    \n",
    "    data_file.close()\n",
    "    return data_set"
   ]
  },
  {
   "cell_type": "code",
   "execution_count": 16,
   "metadata": {
    "collapsed": true
   },
   "outputs": [],
   "source": [
    "# Divide the complete data set into k-fold training sets: here k = 10\n",
    "# return a dictionary of key=k_fold_index and value=sub_data_set\n",
    "def prepare_k_fold_training_sets(data_set, k):\n",
    "    # get the dimensions of the data set\n",
    "    n_datasets, n_features = data_set.shape\n",
    "    # divide the data set into k = 10 fold\n",
    "    k_fold_size = int(n_datasets / 10)\n",
    "    # dictionary to store the k-fold training sets\n",
    "    k_training_sets = {}\n",
    "\n",
    "    # create a dictionory of key=k_fold_index and value=partial_data_set\n",
    "    for i in range(k):\n",
    "        if i < k-1:\n",
    "            k_training_sets[i] = np.array(data_set[i*k_fold_size : (i+1)*k_fold_size,]) \n",
    "        else:\n",
    "            # for the last iteration take all the data left\n",
    "            k_training_sets[i] = np.array(data_set[i*k_fold_size :,])\n",
    "\n",
    "    return k_training_sets"
   ]
  },
  {
   "cell_type": "code",
   "execution_count": 17,
   "metadata": {
    "collapsed": true
   },
   "outputs": [],
   "source": [
    "# Training perceptron weights\n",
    "def train_p_weights(training_data_set, weights):\n",
    "    # separating features and class labels\n",
    "    data_set_features = np.array(training_data_set[:,:-1])\n",
    "    data_set_labels   = np.array(training_data_set[:,[-1]])\n",
    "    # get the dimensions of the data set\n",
    "    n_datasets, n_features = data_set_features.shape\n",
    "    # learning rate for perceptron is 1.0\n",
    "    learning_rate = 1.0\n",
    "\n",
    "    for i in range(n_datasets):\n",
    "        # calculate the dot product y_t(w_t.x_t)\n",
    "        if ( np.dot(data_set_features[i], weights ) * data_set_labels[i]) <= 0:\n",
    "            weights += learning_rate * data_set_labels[i] * data_set_features[i]\n",
    "\n",
    "    return weights"
   ]
  },
  {
   "cell_type": "code",
   "execution_count": 18,
   "metadata": {
    "collapsed": true
   },
   "outputs": [],
   "source": [
    "# Training voted perceptron weights\n",
    "def train_vp_weights(training_data_set, weights):\n",
    "    # separating features and class labels\n",
    "    data_set_features = np.array(training_data_set[:,:-1])\n",
    "    data_set_labels   = np.array(training_data_set[:,[-1]])\n",
    "\n",
    "    n_datasets, n_features = data_set_features.shape\n",
    "    # learning rate for perceptron is 1.0\n",
    "    learning_rate = 1.0\n",
    "    # arrays to store the list of weight vectors\n",
    "    t_votes = np.empty((0,1))\n",
    "    t_weights = np.empty((0,n_features))\n",
    "    # default vote\n",
    "    votes = 1.0\n",
    "    \n",
    "    for i in range(n_datasets):\n",
    "        # calculate the dot product y_t(w_t.x_t)\n",
    "        if (np.dot(data_set_features[i], weights) * data_set_labels[i]) <= 0:\n",
    "            # in case of a misclassification\n",
    "            # add the weight vector to the array of weight vectors\n",
    "            # and its corresponding votes to array of votes\n",
    "            t_weights = np.vstack((t_weights, weights))\n",
    "            t_votes = np.vstack((t_votes, [votes]))\n",
    "            # create a new weight vector and assign a default vote of 1.0\n",
    "            weights += learning_rate * data_set_labels[i] * data_set_features[i]\n",
    "            votes = 1.0\n",
    "        else:\n",
    "            # weight vector has survived hence increment the vote\n",
    "            votes = votes + 1.0\n",
    "\n",
    "    # if at this point the t_weights array is still empty it means the weight\n",
    "    # vector supplied was good for the entire training set. Thus we update\n",
    "    # the t_weights array and its corresponding votes count accordingly\n",
    "    if t_weights.size == 0:\n",
    "        t_weights = np.vstack((t_weights, weights))\n",
    "        t_votes = np.vstack((t_votes, [votes]))\n",
    "\n",
    "    return weights, votes, t_weights, t_votes"
   ]
  },
  {
   "cell_type": "code",
   "execution_count": 19,
   "metadata": {
    "collapsed": true
   },
   "outputs": [],
   "source": [
    "# Perceptron Algorithm\n",
    "def perceptron(data_set, num_epochs):\n",
    "    # dividing the data for k-fold cross validation\n",
    "    # k_training_sets is a dictionary of all the k-fold data sets\n",
    "    k = 10\n",
    "    k_training_sets = prepare_k_fold_training_sets(data_set, k)\n",
    "    p_accuracy = np.array([])\n",
    "\n",
    "    for i in range(k):\n",
    "        # initialize the weight vector\n",
    "        weights = np.zeros(data_set.shape[1] - 1)\n",
    "        # store the validation data set\n",
    "        validation_data_set = k_training_sets[i]\n",
    "        # each epochs runs for complete training data set\n",
    "        for epoch in range(num_epochs):\n",
    "            for j in range(k):\n",
    "                if j != i:\n",
    "                    weights = train_p_weights(k_training_sets[j] , weights)\n",
    "        # cross validation to find k-fold accuracies\n",
    "        predicted_values = []\n",
    "        expected_values  = []\n",
    "        # computing predicted values\n",
    "        for row in validation_data_set:\n",
    "            if (np.dot(row[:-1], weights)) <= 0:\n",
    "                predicted_values.append(-1.0)\n",
    "            else:\n",
    "                predicted_values.append(1.0)\n",
    "            expected_values.append(row[-1])\n",
    "        # computing accuracies\n",
    "        num_correct_predictions = 0.0\n",
    "        for predicted_value, expected_value in zip(predicted_values, expected_values):\n",
    "            if predicted_value == expected_value:\n",
    "                num_correct_predictions += 1;\n",
    "        vdata_size = validation_data_set.shape[0]\n",
    "        p_accuracy = np.append(p_accuracy, [(num_correct_predictions / vdata_size)])\n",
    "\n",
    "    # compute the mean accuracy for the current epoch run\n",
    "    mean_accuracy = p_accuracy.mean()\n",
    "    return mean_accuracy"
   ]
  },
  {
   "cell_type": "code",
   "execution_count": 25,
   "metadata": {
    "collapsed": true
   },
   "outputs": [],
   "source": [
    "# Voted Perceptron Algorithm\n",
    "def voted_perceptron(data_set, num_epochs):\n",
    "    # dividing the data for k-fold cross validation\n",
    "    # k_training_sets is a dictionary of all the k-fold data sets\n",
    "    k = 10\n",
    "    k_training_sets = prepare_k_fold_training_sets(data_set, k)\n",
    "    p_accuracy = np.array([])\n",
    "    n_features = data_set.shape[1] - 1\n",
    "\n",
    "    for i in range(k):\n",
    "        # initialize the weight vector\n",
    "        weights = np.zeros(n_features)\n",
    "        votes = 1.0\n",
    "        # data structures to store the voted weight vectors, their weights\n",
    "        # and accuracies. Initialize the list of weight vectors and list\n",
    "        # of corresponding votes\n",
    "        vp_weights = np.empty((0, n_features))\n",
    "        vp_votes = np.empty((0,1))\n",
    "\n",
    "        # store the validation data set\n",
    "        validation_data_set = k_training_sets[i]\n",
    "        # each epochs runs for complete training data set\n",
    "        for epoch in range(num_epochs):\n",
    "            for j in range(k):\n",
    "                if j != i:\n",
    "                    weights,votes,t_weights,t_votes = train_vp_weights(k_training_sets[j],\n",
    "                                                                          weights)\n",
    "                    vp_weights = np.insert(vp_weights, vp_weights.shape[0],\n",
    "                                           t_weights, axis=0)\n",
    "                    vp_votes = np.insert(vp_votes, vp_votes.shape[0],\n",
    "                                         t_votes, axis=0)\n",
    "            else:\n",
    "                #update the last weight vector and votes before next epoch run\n",
    "                vp_weights = np.insert(vp_weights, vp_weights.shape[0],\n",
    "                                       weights, axis=0)\n",
    "                vp_votes = np.insert(vp_votes, vp_votes.shape[0],\n",
    "                                     [votes], axis=0)\n",
    "            \n",
    "        # Cross validation to find k-fold accuracies\n",
    "        predicted_values = []\n",
    "        expected_values  = []\n",
    "        for row in validation_data_set:\n",
    "            inner_product = 0.0\n",
    "            predicted_value = 0.0\n",
    "            # Calculate the inner product and the predicted value using\n",
    "            # the complete list of weight vectors their corresponding votes\n",
    "            for w_vector, w_vote in zip(vp_weights, vp_votes):\n",
    "                inner_product = np.dot(w_vector, row[:-1])\n",
    "                if inner_product > 0:\n",
    "                    predicted_value += w_vote[0]\n",
    "                else:\n",
    "                    predicted_value -= w_vote[0]\n",
    "\n",
    "            if predicted_value > 0:\n",
    "                predicted_values.append(1.0)\n",
    "            else:\n",
    "                predicted_values.append(-1.0)\n",
    "            expected_values.append(row[-1])\n",
    "\n",
    "        # computing accuracy\n",
    "        num_correct_predictions = 0.0\n",
    "        for predicted_value, expected_value in zip(predicted_values, expected_values):\n",
    "            if predicted_value == expected_value:\n",
    "                num_correct_predictions += 1;\n",
    "        vdata_size = validation_data_set.shape[0]\n",
    "        p_accuracy = np.append(p_accuracy, [(num_correct_predictions / vdata_size)])\n",
    "    \n",
    "    # compute the mean accuracy for the current epoch run\n",
    "    mean_accuracy = p_accuracy.mean()\n",
    "    return mean_accuracy"
   ]
  },
  {
   "cell_type": "code",
   "execution_count": 26,
   "metadata": {
    "collapsed": true
   },
   "outputs": [],
   "source": [
    "# Plotting Breast Cancer Data\n",
    "def plot_breast_cancer_data(epochs_run_list,\n",
    "                            p_mean_accuracies,\n",
    "                            vp_mean_accuracies):\n",
    "    plt.title(\"Breast Cancer Wisconsin\")\n",
    "    plt.xlabel('Number of Epochs')\n",
    "    plt.ylabel('Perceptron Accuracies')\n",
    "\n",
    "    plt.plot(epochs_run_list,\n",
    "             p_mean_accuracies,\n",
    "             label=\"Vanilla Perceptron\")\n",
    "    \n",
    "    plt.plot(epochs_run_list,\n",
    "             vp_mean_accuracies,\n",
    "             label=\"Voted Perceptron\")\n",
    "    \n",
    "    plt.legend(loc=4)\n",
    "    plt.show()"
   ]
  },
  {
   "cell_type": "code",
   "execution_count": 27,
   "metadata": {
    "collapsed": true
   },
   "outputs": [],
   "source": [
    "# Plotting Ionosphere Data\n",
    "def plot_ionosphere_data(epochs_run_list,\n",
    "                         p_mean_accuracies,\n",
    "                         vp_mean_accuracies):\n",
    "    plt.title(\"Ionosphere Data\")\n",
    "    plt.xlabel('Number of Epochs')\n",
    "    plt.ylabel('Perceptron Accuracies')\n",
    "\n",
    "    plt.plot(epochs_run_list,\n",
    "             p_mean_accuracies,\n",
    "             label=\"Vanilla Perceptron\")\n",
    "    \n",
    "    plt.plot(epochs_run_list,\n",
    "             vp_mean_accuracies,\n",
    "             label=\"Voted Perceptron\")\n",
    "    \n",
    "    plt.legend(loc=4)\n",
    "    plt.show()"
   ]
  },
  {
   "cell_type": "code",
   "execution_count": 33,
   "metadata": {
    "scrolled": true
   },
   "outputs": [
    {
     "data": {
      "image/png": "[encoded data removed]",
      "text/plain": [
       "<matplotlib.figure.Figure at 0x7fb77f0fd780>"
      ]
     },
     "metadata": {},
     "output_type": "display_data"
    }
   ],
   "source": [
    "##################################################################\n",
    "#                      Breast Cancer dataset                     #\n",
    "##################################################################\n",
    "epochs_run_list = [5,10,15,20,25,30,35,40,45,50,55,60,65,70,75,80,85,90]\n",
    "p_mean_accuracies = []\n",
    "vp_mean_accuracies = []\n",
    "\n",
    "# prepare the data set\n",
    "data_set = prepare_bcw_data_set()\n",
    "\n",
    "# run Vanilla Perceptron Algorithm\n",
    "for epoch in epochs_run_list:\n",
    "    p_mean_accuracy = perceptron(data_set, epoch)\n",
    "    p_mean_accuracies.append(p_mean_accuracy)\n",
    "\n",
    "# running Voted Perceptron Algorithm\n",
    "for epoch in epochs_run_list:\n",
    "    p_mean_accuracy = voted_perceptron(data_set, epoch)\n",
    "    vp_mean_accuracies.append(p_mean_accuracy)\n",
    "\n",
    "# plot the data comparing both the approaches\n",
    "plot_breast_cancer_data(epochs_run_list,\n",
    "                        p_mean_accuracies,\n",
    "                        vp_mean_accuracies)"
   ]
  },
  {
   "cell_type": "code",
   "execution_count": 32,
   "metadata": {},
   "outputs": [
    {
     "data": {
      "image/png": "[encoded data removed]",
      "text/plain": [
       "<matplotlib.figure.Figure at 0x7fb77f1faa90>"
      ]
     },
     "metadata": {},
     "output_type": "display_data"
    }
   ],
   "source": [
    "##################################################################\n",
    "#                       Ionosphere Dataset                       #\n",
    "##################################################################\n",
    "epochs_run_list = [5,10,15,20,25,30,35,40,45,50,55,60,65,70]\n",
    "p_mean_accuracies = []\n",
    "vp_mean_accuracies = []\n",
    "\n",
    "# prepare the data set\n",
    "data_set = prepare_ion_data_set()\n",
    "\n",
    "# run Vanilla Perceptron Algorithm\n",
    "for epoch in epochs_run_list:\n",
    "    p_mean_accuracy = perceptron(data_set, epoch)\n",
    "    p_mean_accuracies.append(p_mean_accuracy)\n",
    "\n",
    "# running Voted Perceptron Algorithm\n",
    "for epoch in epochs_run_list:\n",
    "    p_mean_accuracy = voted_perceptron(data_set, epoch)\n",
    "    vp_mean_accuracies.append(p_mean_accuracy)\n",
    "\n",
    "# plot the data comparing both the approaches\n",
    "plot_ionosphere_data(epochs_run_list,\n",
    "                     p_mean_accuracies,\n",
    "                     vp_mean_accuracies)"
   ]
  },
  {
   "cell_type": "markdown",
   "metadata": {},
   "source": [
    "Observations:\n",
    "=============\n",
    "\n",
    "1. Breast cancer data set:\n",
    "--------------------------\n",
    "The \"Breast Cancer Wisconsin\" plot shows the values till 100 epochs.  \n",
    "-> With Vanilla Perceptron, the plot between number of epochs vs mean accuracies donot converge even for a run till 100 epochs. The mean accuracies values are between 94% to 97%.  \n",
    "-> With Voted Perceptron the mean accuracies are between 90% to 96.6%. The plot between number of epochs vs mean accuracies shows convergence after post 90 epochs with 96.6% accuracy.\n",
    "\n",
    "2. Ionosphere data set:\n",
    "-----------------------\n",
    "The \"Ionosphere Data\" plot shows the values till 100 epochs.  \n",
    "-> With Vanilla Perceptron, the plot between number of epochs vs mean accuracies donot converge even for a run till 100 epochs. The mean accuracies values are between 85% to 90%.  \n",
    "-> With Voted Perceptron the mean accuracies are between 82% to 86%. The plot between number of epochs vs mean accuracies shows convergence after post 70 epochs with 84.6% accuracy.  \n",
    "  \n",
    "  \n",
    "On both the data sets, we can observe that the Voted Perceptron algorithm do converge post some epoch value, but with the Vanilla Perceptron algorithm convergence in not guranteed though it gives better accuracy percentage with some epochs."
   ]
  },
  {
   "cell_type": "code",
   "execution_count": null,
   "metadata": {},
   "outputs": [],
   "source": []
  }
 ],
 "metadata": {
  "kernelspec": {
   "display_name": "Python 3",
   "language": "python",
   "name": "python3"
  },
  "language_info": {
   "codemirror_mode": {
    "name": "ipython",
    "version": 3
   },
   "file_extension": ".py",
   "mimetype": "text/x-python",
   "name": "python",
   "nbconvert_exporter": "python",
   "pygments_lexer": "ipython3",
   "version": "3.6.3"
  }
 },
 "nbformat": 4,
 "nbformat_minor": 2
}
